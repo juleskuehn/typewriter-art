{
  "cells": [
    {
      "cell_type": "code",
      "execution_count": 9,
      "metadata": {},
      "outputs": [],
      "source": [
        "# %pip install -q pqdict opencv-python annoy scikit-image"
      ]
    },
    {
      "cell_type": "code",
      "execution_count": 10,
      "metadata": {},
      "outputs": [],
      "source": [
        "# !git clone https://github.com/juleskuehn/typewriter-art"
      ]
    },
    {
      "cell_type": "code",
      "execution_count": 11,
      "metadata": {
        "cellView": "both",
        "colab": {
          "base_uri": "https://localhost:8080/",
          "height": 478
        },
        "id": "yL-z9QMrm_Kg",
        "outputId": "58ca3ca0-aa08-4049-c32b-0ee5ce93a43c"
      },
      "outputs": [],
      "source": [
        "import sys,os\n",
        "# sys.path.append(os.getcwd() + '/typewriter-art')\n",
        "from kword import kword"
      ]
    },
    {
      "cell_type": "code",
      "execution_count": 12,
      "metadata": {
        "id": "7pYmza5vg4JX"
      },
      "outputs": [
        {
          "name": "stdout",
          "output_type": "stream",
          "text": [
            "3630 positions optimized\n",
            "121254 comparisons made\n",
            "11.69 seconds\n"
          ]
        },
        {
          "data": {
            "image/png": "[encoded data removed]",
            "text/plain": [
              "<Figure size 800x500 with 2 Axes>"
            ]
          },
          "metadata": {},
          "output_type": "display_data"
        }
      ],
      "source": [
        "kword(\n",
        "    # basePath = os.getcwd() + '/typewriter-art/',\n",
        "    basePath = './',\n",
        "\n",
        "    # Charset image\n",
        "    sourceFn = 'lightRibbonPadded.png',\n",
        "    slicesX = 79,\n",
        "    slicesY = 11,\n",
        "    whiteThreshold = 0.99, # Remove chars with >= this proportion white\n",
        "    excludeChars = [19, 36, 53, 55, 61, 63, 65, 67, 69, 71, 77, 79, 81, 85, 88, 95, 101, 136, 150], # IDs of chars \n",
        "    \n",
        "    # Target image\n",
        "    targetFn = 'mwdog_crop.png', # Sample image of Menswear Dog\n",
        "    rowLength = 15, # Width of the output typable in character columns.\n",
        "    numLayers = 2, # For limiting maxChars\n",
        "    maxChars = None, # 5790 chars is equivalent to 1000 english words (with spaces). (Can also be \"None\" - no quotes)\n",
        "\n",
        "    # Find optimal crop?\n",
        "    autoCrop = False,\n",
        "\n",
        "    # Manually crop\n",
        "    zoom = 0, # Between 0 and 3 (at 4, image is same as rowLength+1 at zoom 0) \n",
        "    shiftLeft = 0, # pixels\n",
        "    shiftUp = 0, # pixels\n",
        "    \n",
        "    # Add an overtype pass. Expects to find '{basePath}results/resume.pkl'\n",
        "    resume = False, # [True, False, 'filename']\n",
        "\n",
        "    # Initial state\n",
        "    initMode = 'euclidean', # ['euclidean', 'blend', 'angular', 'random', None]\n",
        "    initOnly = False, # Stop after initializing (don't optimize)\n",
        "    initPriority = True, # Initialize in priority order (priority only calculated once)\n",
        "    initComposite = True, # Subtract already placed ink from target image \n",
        "    subtractiveScale = 32, # Between 0 (full subtraction from target) and 255 (same as initComposite=False)\n",
        "    initBrighten = 0, # Raises black level, compressesing dynamic range. Between 0 (no brightening) and 1 (completely white)\n",
        "\n",
        "    # Similarity metric\n",
        "    mode = 'amse', # ['amse', 'ssim', 'blend']\n",
        "    asymmetry = 0.2, # asymmetry > 0 penalizes \"sins of commission\" more harshly\n",
        "    blendFunc = 'amse * ssim**0.5', # f(amse, ssim)\n",
        "\n",
        "    # Search technique\n",
        "    search = 'simAnneal', # ['greedy', 'simAnneal']\n",
        "    maxVisits = 1000, # Stopping condition, necessary for stochastic search\n",
        "    initTemp = 10, # For simAnneal. Initial temperature. Minimum is 0. Usually 10\n",
        "    tempStep = 0.001, # For simAnneal. Amount to reduce temperature per visit usually 0.001\n",
        "    scaleTemp = 0.001, # For simAnneal. Higher values increase likelihood of random choice\n",
        "    tempReheatFactor = 0, # Proportion of previous initTemp to reheat to, ex. 0.5\n",
        "    initK = 5, # For incrK: k = initK * numVisits\n",
        "    \n",
        "    # Selection order\n",
        "    selectOrder = 'random', # ['linear', 'random', 'priority']\n",
        "\n",
        "    # Saving\n",
        "    genLayers = True, # Save the 4 typable layers\n",
        "    saveChars = True, # Save the chopped character set\n",
        "    hiResMockup = True, # Save the mockup at maximum size. False: matching target shape\n",
        "    \n",
        "    # Logging\n",
        "    printEvery = 1000 # How many selections between progress updates?\n",
        ")"
      ]
    },
    {
      "cell_type": "code",
      "execution_count": null,
      "metadata": {},
      "outputs": [],
      "source": []
    }
  ],
  "metadata": {
    "colab": {
      "collapsed_sections": [],
      "name": "typewriter-demo.ipynb",
      "provenance": []
    },
    "interpreter": {
      "hash": "f5ab625cec6a95b6863e1fab9c9f5d8b94505a92900e0a7b8d2aca7affa9c621"
    },
    "kernelspec": {
      "display_name": "Python 3.10.4 ('typewriter-art')",
      "language": "python",
      "name": "python3"
    },
    "language_info": {
      "codemirror_mode": {
        "name": "ipython",
        "version": 3
      },
      "file_extension": ".py",
      "mimetype": "text/x-python",
      "name": "python",
      "nbconvert_exporter": "python",
      "pygments_lexer": "ipython3",
      "version": "3.10.11"
    }
  },
  "nbformat": 4,
  "nbformat_minor": 0
}
